{
 "cells": [
  {
   "cell_type": "code",
   "execution_count": null,
   "id": "db00151a-efa1-4991-b43e-22cabb9c9a50",
   "metadata": {
    "tags": []
   },
   "outputs": [],
   "source": [
    "import pandas as pd\n",
    "import datetime\n",
    "events = pd.read_csv(\"data/events.csv\")\n",
    "events.head()\n",
    "\n",
    "events.info()\n",
    "events.shape\n",
    "\n",
    "print(events.isna().sum())\n",
    "events['user_id'] = events['user_id'].fillna(0)\n",
    "\n",
    "# Creating new variables, separating \"created_at\" in two, \"date\" and \"time\"\n",
    "new = events[\"created_at\"].str.split(\" \", n = 1, expand = True)\n",
    "\n",
    "events[\"date\"]= new[0] \n",
    "\n",
    "events[\"time\"]= new[1] \n",
    "\n",
    "#Taking out created_at\n",
    "events.drop(columns =[\"created_at\"], inplace = True) \n",
    "\n",
    "events.head()\n",
    "events.info()\n",
    "\n",
    "new = events[\"time\"].str.split(\".\", n = 1, expand = True)\n",
    "events[\"Time\"]= new[0] \n",
    "events[\"rest\"]= new[1] \n",
    "events.drop(columns =[\"time\"], inplace = True)\n",
    "events.drop(columns =[\"rest\"], inplace = True)\n",
    "\n",
    "events.head()\n",
    "# extract the month from the date column and save it as a new variable\n",
    "events[\"Year\"] = pd.to_datetime(events[\"date\"]).dt.year\n",
    "events.head()\n",
    "#Saving in a new csv file\n",
    "events.to_csv('Events.csv',index=False)"
   ]
  },
  {
   "cell_type": "code",
   "execution_count": null,
   "id": "24e275b6-ba29-44d6-9a68-a9b49995b31e",
   "metadata": {
    "tags": []
   },
   "outputs": [],
   "source": []
  },
  {
   "cell_type": "code",
   "execution_count": null,
   "id": "90b69176-3fc7-4bec-8b6f-28e80dc45d57",
   "metadata": {
    "tags": []
   },
   "outputs": [],
   "source": []
  }
 ],
 "metadata": {
  "kernelspec": {
   "display_name": "Python 3 (ipykernel)",
   "language": "python",
   "name": "python3"
  },
  "language_info": {
   "codemirror_mode": {
    "name": "ipython",
    "version": 3
   },
   "file_extension": ".py",
   "mimetype": "text/x-python",
   "name": "python",
   "nbconvert_exporter": "python",
   "pygments_lexer": "ipython3",
   "version": "3.11.3"
  }
 },
 "nbformat": 4,
 "nbformat_minor": 5
}
