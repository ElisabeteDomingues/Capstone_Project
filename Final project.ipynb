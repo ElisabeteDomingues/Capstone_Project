{
 "cells": [
  {
   "cell_type": "code",
   "execution_count": 1,
   "id": "db00151a-efa1-4991-b43e-22cabb9c9a50",
   "metadata": {
    "tags": []
   },
   "outputs": [
    {
     "name": "stdout",
     "output_type": "stream",
     "text": [
      "<class 'pandas.core.frame.DataFrame'>\n",
      "RangeIndex: 2424507 entries, 0 to 2424506\n",
      "Data columns (total 13 columns):\n",
      " #   Column           Dtype  \n",
      "---  ------           -----  \n",
      " 0   id               int64  \n",
      " 1   user_id          float64\n",
      " 2   sequence_number  int64  \n",
      " 3   session_id       object \n",
      " 4   created_at       object \n",
      " 5   ip_address       object \n",
      " 6   city             object \n",
      " 7   state            object \n",
      " 8   postal_code      object \n",
      " 9   browser          object \n",
      " 10  traffic_source   object \n",
      " 11  uri              object \n",
      " 12  event_type       object \n",
      "dtypes: float64(1), int64(2), object(10)\n",
      "memory usage: 240.5+ MB\n",
      "id                       0\n",
      "user_id            1125432\n",
      "sequence_number          0\n",
      "session_id               0\n",
      "created_at               0\n",
      "ip_address               0\n",
      "city                 22353\n",
      "state                    0\n",
      "postal_code              0\n",
      "browser                  0\n",
      "traffic_source           0\n",
      "uri                      0\n",
      "event_type               0\n",
      "dtype: int64\n",
      "<class 'pandas.core.frame.DataFrame'>\n",
      "RangeIndex: 2424507 entries, 0 to 2424506\n",
      "Data columns (total 14 columns):\n",
      " #   Column           Dtype  \n",
      "---  ------           -----  \n",
      " 0   id               int64  \n",
      " 1   user_id          float64\n",
      " 2   sequence_number  int64  \n",
      " 3   session_id       object \n",
      " 4   ip_address       object \n",
      " 5   city             object \n",
      " 6   state            object \n",
      " 7   postal_code      object \n",
      " 8   browser          object \n",
      " 9   traffic_source   object \n",
      " 10  uri              object \n",
      " 11  event_type       object \n",
      " 12  date             object \n",
      " 13  time             object \n",
      "dtypes: float64(1), int64(2), object(11)\n",
      "memory usage: 259.0+ MB\n"
     ]
    }
   ],
   "source": [
    "import pandas as pd\n",
    "import datetime\n",
    "events = pd.read_csv(\"data/events.csv\")\n",
    "events.head()\n",
    "\n",
    "events.info()\n",
    "events.shape\n",
    "\n",
    "print(events.isna().sum())\n",
    "events['user_id'] = events['user_id'].fillna(0)\n",
    "\n",
    "# Creating new variables, separating \"created_at\" in two, \"date\" and \"time\"\n",
    "new = events[\"created_at\"].str.split(\" \", n = 1, expand = True)\n",
    "\n",
    "events[\"date\"]= new[0] \n",
    "\n",
    "events[\"time\"]= new[1] \n",
    "\n",
    "#Taking out created_at\n",
    "events.drop(columns =[\"created_at\"], inplace = True) \n",
    "\n",
    "events.head()\n",
    "events.info()\n",
    "\n",
    "new = events[\"time\"].str.split(\".\", n = 1, expand = True)\n",
    "events[\"Time\"]= new[0] \n",
    "events[\"rest\"]= new[1] \n",
    "events.drop(columns =[\"time\"], inplace = True)\n",
    "events.drop(columns =[\"rest\"], inplace = True)\n",
    "\n",
    "events.head()\n",
    "# extract the month from the date column and save it as a new variable\n",
    "events[\"Year\"] = pd.to_datetime(events[\"date\"]).dt.year\n",
    "events.head()\n",
    "#Saving in a new csv file\n",
    "events.to_csv('Events.csv',index=False)"
   ]
  },
  {
   "cell_type": "code",
   "execution_count": null,
   "id": "24e275b6-ba29-44d6-9a68-a9b49995b31e",
   "metadata": {
    "tags": []
   },
   "outputs": [],
   "source": []
  },
  {
   "cell_type": "code",
   "execution_count": null,
   "id": "90b69176-3fc7-4bec-8b6f-28e80dc45d57",
   "metadata": {
    "tags": []
   },
   "outputs": [],
   "source": []
  }
 ],
 "metadata": {
  "kernelspec": {
   "display_name": "Python 3 (ipykernel)",
   "language": "python",
   "name": "python3"
  },
  "language_info": {
   "codemirror_mode": {
    "name": "ipython",
    "version": 3
   },
   "file_extension": ".py",
   "mimetype": "text/x-python",
   "name": "python",
   "nbconvert_exporter": "python",
   "pygments_lexer": "ipython3",
   "version": "3.11.3"
  }
 },
 "nbformat": 4,
 "nbformat_minor": 5
}
