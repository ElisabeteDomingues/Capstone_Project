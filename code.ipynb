import pandas as pd
import datetime
events = pd.read_csv("data/events.csv")
events.head()

events.info()
events.shape

print(events.isna().sum())
events['user_id'] = events['user_id'].fillna(0)

# Creating new variables, separating "created_at" in two, "date" and "time"
new = events["created_at"].str.split(" ", n = 1, expand = True)

events["date"]= new[0] 

events["time"]= new[1] 

#Taking out created_at
events.drop(columns =["created_at"], inplace = True) 

events.head()
events.info()

new = events["time"].str.split(".", n = 1, expand = True)
events["Time"]= new[0] 
events["rest"]= new[1] 
events.drop(columns =["time"], inplace = True)
events.drop(columns =["rest"], inplace = True)

events.head()
# extract the month from the date column and save it as a new variable
events["Year"] = pd.to_datetime(events["date"]).dt.year
events.head()
#Saving in a new csv file
events.to_csv('Events.csv',index=False)
